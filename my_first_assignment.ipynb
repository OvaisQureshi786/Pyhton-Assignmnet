{
  "nbformat": 4,
  "nbformat_minor": 0,
  "metadata": {
    "colab": {
      "provenance": []
    },
    "kernelspec": {
      "name": "python3",
      "display_name": "Python 3"
    },
    "language_info": {
      "name": "python"
    }
  },
  "cells": [
    {
      "cell_type": "markdown",
      "source": [
        "# Assignment Theory questions and answers!\n"
      ],
      "metadata": {
        "id": "Jnu5EngfqXNy"
      }
    },
    {
      "cell_type": "markdown",
      "source": [
        "Q1, what is python, and why is it popular?\n",
        "   - Python was designed by Guido van Rossum, a Dutch programmer, in the late 1980s. He released the first version in 1991.Python is a high-level, interpreted programming language known for its simplicity and readability. It supports multiple programming paradigms, including procedural, object-oriented, and functional programming.\n",
        "\n",
        "Its popularity stems from:\n",
        "\n",
        "Ease of use: Simple syntax, making it beginner-friendly.\n",
        "Versatility: Used in web development, data science, artificial intelligence, automation, and more.\n",
        "Large community: Extensive libraries and frameworks.\n",
        "Cross-platform compatibility: Works on multiple operating systems."
      ],
      "metadata": {
        "id": "_XA9STncrFuZ"
      }
    },
    {
      "cell_type": "markdown",
      "source": [
        "Q2, What is an interpreter in python?\n",
        "   - An interpreter in Python is a program that executes Python code directly, line by line, rather than compiling it into machine language beforehand. It reads the source code, translates it into an intermediate form, and runs it simultaneously.\n",
        "\n",
        "Key Features of Python Interpreter:\n",
        "Line-by-Line Execution: Executes the code one statement at a time, making it easier to debug.\n",
        "Interactive: Allows developers to run code in an interactive mode, such as using the Python shell or Jupyter Notebook.\n",
        "Dynamic Typing: Works well with Python's dynamic typing by evaluating data types at runtime.\n",
        "Platform-Independent: Available on multiple platforms (Windows, macOS, Linux) and interprets Python code consistently.\n",
        "Types of Python Interpreters:\n",
        "CPython: The default and most widely used interpreter.\n",
        "PyPy: A faster Python interpreter with Just-In-Time (JIT) compilation.\n",
        "Jython: A Python interpreter for Java environments.\n",
        "IronPython: Targets .NET Framework and Mono\n",
        "      "
      ],
      "metadata": {
        "id": "8b-P6dEurFq7"
      }
    },
    {
      "cell_type": "markdown",
      "source": [
        "Q3, what are the pre-defined keywords in python?\n",
        "- Python has a set of pre-defined keywords that are reserved for specific purposes. These keywords are part of Python's syntax and cannot be used as variable names, function names, or identifiers. They help in defining the structure and logic of Python programs.\n",
        "\n",
        "List of Pre-defined Keywords in Python (as of Python 3.10):\n",
        "Category\tKeywords\n",
        "Control Flow\tif, else, elif, for, while, break, continue, pass\n",
        "Functions and Classes\tdef, return, lambda, class\n",
        "Exception Handling\ttry, except, finally, raise, assert\n",
        "Boolean Operations\tTrue, False, and, or, not, is, in\n",
        "Variable Management\tdel, global, nonlocal\n",
        "Import and Modules\timport, from, as\n",
        "Object-Oriented\tNone, self\n",
        "Context Management\twith\n",
        "Others\tyield, async, await\n",
        "Key Points About Keywords:\n",
        "Case-Sensitive: All keywords are lowercase except True, False, and None, which start with uppercase letters.\n",
        "Purpose-Built: Each keyword serves a specific purpose in Python's syntax, such as defining loops, conditional statements, or handling exceptions.\n",
        "Cannot Be Overridden: These keywords cannot be redefined or used as variable names."
      ],
      "metadata": {
        "id": "Q7shKp-F2tQ1"
      }
    },
    {
      "cell_type": "markdown",
      "source": [
        "Q4, can keywords be used as vaiable names?\n",
        "- No, keywords cannot be used as variable names in Python.\n",
        "Keywords are reserved words that have special meanings and purposes in the Python programming language. Using them as variable names would cause syntax errors because Python would misinterpret the intended functionality of the keyword.\n",
        "    \n",
        "    "
      ],
      "metadata": {
        "id": "x4H86EfA6fee"
      }
    },
    {
      "cell_type": "markdown",
      "source": [
        "Q5, what is mutability in pyton?\n",
        "- Immutable Objects\n",
        "Immutable objects cannot be changed once they are created. Any operation that seems to modify an immutable object will actually create a new object with a different identity.\n",
        "Common examples of immutable objects:\n",
        "Integers\n",
        "Floats\n",
        "Strings\n",
        "Tuples\n",
        "Frozen sets\n",
        "User-defined immutable objects"
      ],
      "metadata": {
        "id": "nj_FQuasbRUi"
      }
    },
    {
      "cell_type": "markdown",
      "source": [
        "Q6, why are lists mutable, but tuples are immutable?\n",
        "- Lists are mutable because they are designed for dynamic operations like adding, removing, or modifying elements, making them flexible for use cases that require frequent changes.\n",
        "\n",
        "Tuples are immutable to provide a lightweight, hashable, and stable data structure, suitable for fixed collections of items and ensuring data integrity when used as keys in dictionaries or elements in sets"
      ],
      "metadata": {
        "id": "Y4IBf6GTGwEO"
      }
    },
    {
      "cell_type": "markdown",
      "source": [
        "Q7, What is the difference between “==” and “is” operators in Python?\n",
        "- In Python, == and is serve different purposes:\n",
        "\n",
        "== (Equality Operator)\n",
        "Compares values of two objects to check if they are equal.\n",
        "Works based on the __eq__() method of the objects.\n",
        "Can return True even if the objects are stored at different memory locations.\n",
        "\n",
        "is (Identity Operator)\n",
        "Compares the memory addresses (identity) of two objects to check if they are the same object.\n",
        "Returns True only if both variables point to the exact same object in memory.\n",
        "\n",
        "\n",
        "Key Difference\n",
        "== checks value equality.\n",
        "is checks object identity."
      ],
      "metadata": {
        "id": "JXbkYuKNHtHq"
      }
    },
    {
      "cell_type": "markdown",
      "source": [
        "Q8, What are logical operators in Python?\n",
        "- Logical operators in Python are used to combine or modify boolean expressions and return a boolean value (True or False). Python provides three logical operators:\n",
        "\n",
        "1. and (Logical AND)\n",
        "Returns True if both operands are True.\n",
        "Short-circuits: Stops evaluating as soon as it encounters a False.\n",
        "\n",
        "\n",
        "Example:\n",
        "\n",
        "python\n",
        "Copy code\n",
        "a = True\n",
        "b = False\n",
        "print(a and b)  # Output: False\n",
        "2. or (Logical OR)\n",
        "Returns True if at least one operand is True.\n",
        "Short-circuits: Stops evaluating as soon as it encounters a True.\n",
        "Example:\n",
        "\n",
        "python\n",
        "Copy code\n",
        "a = True\n",
        "b = False\n",
        "print(a or b)  # Output: True\n",
        "3. not (Logical NOT)\n",
        "Returns the opposite boolean value of the operand.\n",
        "It is a unary operator, meaning it works on a single operand.\n",
        "Example:\n",
        "\n",
        "python\n",
        "Copy code\n",
        "a = True\n",
        "print(not a)  # Output: False\n",
        "Use in Conditional Statements\n",
        "Logical operators are commonly used in if statements and loops:\n",
        "\n",
        "python\n",
        "Copy code\n",
        "x = 5\n",
        "if x > 0 and x < 10:\n",
        "    print(\"x is a positive single-digit number\")  # Output: x is a positive single-digit number\n",
        "These operators are essential for combining multiple conditions in your code.\n",
        "\n",
        "\n"
      ],
      "metadata": {
        "id": "BlpI1CdBSGFI"
      }
    },
    {
      "cell_type": "markdown",
      "source": [
        "Q9, What is type casting in Python?\n",
        "   - Type casting in Python refers to converting a variable from one data type to another. Python provides built-in functions for explicit type conversion, enabling you to change the type of an object when needed.\n",
        "\n",
        "Types of Type Casting\n",
        "Implicit Type Casting\n",
        "\n",
        "Done automatically by Python when it converts one data type to another without user intervention.\n",
        "Typically occurs when combining different numeric types (e.g., int and float).\n",
        "\n",
        "\n",
        "Example:\n",
        "\n",
        "python\n",
        "Copy code\n",
        "a = 5    # Integer\n",
        "b = 2.0  # Float\n",
        "c = a + b\n",
        "print(c)        # Output: 7.0\n",
        "print(type(c))  # Output: <class 'float'>\n",
        "Explicit Type Casting\n",
        "\n",
        "Done manually using built-in functions to convert one data type to another.\n",
        "Common Functions:\n",
        "\n",
        "int() - Converts to an integer.\n",
        "float() - Converts to a float.\n",
        "str() - Converts to a string.\n",
        "list() - Converts to a list.\n",
        "tuple() - Converts to a tuple.\n",
        "set() - Converts to a set.\n",
        "\n",
        "\n",
        "Example:\n",
        "\n",
        "\n",
        "python\n",
        "Copy code\n",
        "x = \"123\"  # String\n",
        "y = int(x) # Convert string to integer\n",
        "print(y)        # Output: 123\n",
        "print(type(y))  # Output: <class 'int'>\n",
        "Things to Note\n",
        "Type casting is only valid when the conversion makes sense. Trying to cast incompatible types will raise an error. Example:\n",
        "\n",
        "\n",
        "\n",
        "python\n",
        "Copy code\n",
        "x = \"hello\"\n",
        "y = int(x)  # Raises ValueError\n",
        "Python does not allow implicit casting for incompatible types (e.g., int to str). You must use explicit conversion.\n",
        "\n",
        "\n",
        "\n",
        "\n",
        "\n",
        "\n",
        "\n",
        "\n"
      ],
      "metadata": {
        "id": "qYEZrmytdGGa"
      }
    },
    {
      "cell_type": "markdown",
      "source": [
        "Q10, What is the difference between implicit and explicit type casting?\n",
        "\n",
        "- The difference between implicit and explicit type casting lies in who performs the conversion and how it occurs:\n",
        "\n",
        "1. Implicit Type Casting\n",
        "Performed by Python automatically.\n",
        "Happens when Python converts one data type to another without user intervention.\n",
        "Ensures no loss of data or precision.\n",
        "Typically occurs in numeric operations (e.g., combining int and float).\n",
        "Example:\n",
        "\n",
        "python\n",
        "Copy code\n",
        "a = 10       # Integer\n",
        "b = 2.5      # Float\n",
        "c = a + b    # Python implicitly converts 'a' to float\n",
        "print(c)         # Output: 12.5\n",
        "print(type(c))   # Output: <class 'float'>\n",
        "2. Explicit Type Casting\n",
        "Performed manually by the programmer.\n",
        "Achieved using Python’s built-in functions like int(), float(), str(), etc.\n",
        "Used when you need to forcefully convert a data type.\n",
        "Can lead to data loss if not used carefully.\n",
        "Example:\n",
        "\n",
        "python\n",
        "Copy code\n",
        "x = \"123\"       # String\n",
        "y = int(x)      # Explicitly converting 'x' to an integer\n",
        "print(y)            # Output: 123\n",
        "print(type(y))      # Output: <class 'int'>\n",
        "Key Differences\n",
        "Aspect\tImplicit Type Casting\tExplicit Type Casting\n",
        "Who performs it?\tPython\tProgrammer\n",
        "Occurs automatically?\tYes\tNo\n",
        "Control\tNo control over conversion\tFull control\n",
        "Risk of data loss\tNo\tPossible\n",
        "Example of Data Loss in Explicit Casting:\n",
        "\n",
        "python\n",
        "Copy code\n",
        "a = 3.7\n",
        "b = int(a)  # Explicit type casting to int\n",
        "print(b)    # Output: 3 (fractional part is lost)\n",
        "\n",
        "\n",
        "\n",
        "\n",
        "\n"
      ],
      "metadata": {
        "id": "42M5UZhnsHUR"
      }
    },
    {
      "cell_type": "markdown",
      "source": [
        "Q11, What is the purpose of conditional statements in Python?\n",
        "     \n",
        "- The purpose of conditional statements in Python is to enable decision-making in a program. They allow the program to execute specific blocks of code based on whether a condition (or set of conditions) evaluates to True or False. This helps in controlling the program's flow dynamically.\n",
        "\n",
        "Key Uses of Conditional Statements\n",
        "Decision Making: Execute different code paths based on conditions.\n",
        "Control Flow: Change the flow of execution based on dynamic inputs or logic.\n",
        "Validation: Check and enforce conditions before performing actions.\n",
        "Types of Conditional Statements in Python\n",
        "if Statement\n",
        "\n",
        "Executes a block of code if a condition is True.\n",
        "python\n",
        "Copy code\n",
        "age = 18\n",
        "if age >= 18:\n",
        "    print(\"You are an adult!\")\n",
        "if-else Statement\n",
        "\n",
        "Provides an alternative block of code to execute if the condition is False.\n",
        "python\n",
        "Copy code\n",
        "age = 16\n",
        "if age >= 18:\n",
        "    print(\"You are an adult!\")\n",
        "else:\n",
        "    print(\"You are a minor!\")\n",
        "if-elif-else Statement\n",
        "\n",
        "Handles multiple conditions, allowing only one block to execute.\n",
        "python\n",
        "Copy code\n",
        "marks = 85\n",
        "if marks >= 90:\n",
        "    print(\"Grade: A\")\n",
        "elif marks >= 80:\n",
        "    print(\"Grade: B\")\n",
        "else:\n",
        "    print(\"Grade: C\")\n",
        "Nested Conditional Statements\n",
        "\n",
        "Allows conditions inside other conditions for more complex logic.\n",
        "python\n",
        "Copy code\n",
        "num = 5\n",
        "if num > 0:\n",
        "    if num % 2 == 0:\n",
        "        print(\"Positive even number\")\n",
        "    else:\n",
        "        print(\"Positive odd number\")\n"
      ],
      "metadata": {
        "id": "J0qP_7OZtzXc"
      }
    },
    {
      "cell_type": "markdown",
      "source": [
        "Q12, How does the elif statement work?\n",
        "- The elif statement in Python is used for multiple conditional checks. It stands for \"else if\" and allows you to test several conditions in sequence. When the program encounters an elif, it evaluates the condition associated with it, and if the condition is True, it executes the block of code under that elif.\n",
        "\n",
        "If the condition is False, the program moves to the next elif or else statement, if any.\n",
        "\n",
        "How It Works\n",
        "Python evaluates conditions sequentially from top to bottom.\n",
        "The first if or elif condition that evaluates to True executes its corresponding block of code.\n",
        "If no if or elif condition is True, and there’s an else block, the code in the else block runs.\n",
        "Syntax\n",
        "python\n",
        "Copy code\n",
        "if condition1:\n",
        "    # Block executed if condition1 is True\n",
        "elif condition2:\n",
        "    # Block executed if condition1 is False and condition2 is True\n",
        "elif condition3:\n",
        "    # Block executed if condition2 is False and condition3 is True\n",
        "else:\n",
        "    # Block executed if all conditions are False\n",
        "Example\n",
        "python\n",
        "Copy code\n",
        "score = 75\n",
        "\n",
        "if score >= 90:\n",
        "    print(\"Grade: A\")\n",
        "elif score >= 80:\n",
        "    print(\"Grade: B\")\n",
        "elif score >= 70:\n",
        "    print(\"Grade: C\")\n",
        "else:\n",
        "    print(\"Grade: F\")\n",
        "Output:\n",
        "\n",
        "makefile\n",
        "Copy code\n",
        "Grade: C\n",
        "How It Works in This Example\n",
        "The if condition (score >= 90) is evaluated first. It's False.\n",
        "The first elif condition (score >= 80) is checked. It's False.\n",
        "The second elif condition (score >= 70) is checked. It's True, so \"Grade: C\" is printed.\n",
        "The else block is skipped because one of the conditions was True.\n",
        "Key Points\n",
        "You can use as many elif statements as needed.\n",
        "Only one block of code will execute, even if multiple conditions are True. The first True condition takes precedence.\n",
        "The elif is optional but is helpful for handling multiple conditions logically."
      ],
      "metadata": {
        "id": "WV6dv9QPubs1"
      }
    },
    {
      "cell_type": "markdown",
      "source": [
        "Q13, What is the difference between for and while loops?\n",
        "- The key difference between for and while loops in Python lies in their structure and use cases:\n",
        "\n",
        "1. for Loop\n",
        "Purpose: The for loop is used to iterate over a sequence (like a list, tuple, string, or range) for a specific number of times.\n",
        "When to use: When you know the number of iterations in advance or you are iterating over a collection (like a list or range).\n",
        "Control: The loop automatically handles the iteration, and you don't need to manually update the loop variable.\n",
        "Syntax:\n",
        "\n",
        "python\n",
        "Copy code\n",
        "for variable in sequence:\n",
        "    # Loop body\n",
        "Example:\n",
        "\n",
        "python\n",
        "Copy code\n",
        "for i in range(5):\n",
        "    print(i)\n",
        "Output:\n",
        "\n",
        "Copy code\n",
        "0\n",
        "1\n",
        "2\n",
        "3\n",
        "4\n",
        "2. while Loop\n",
        "Purpose: The while loop continues executing as long as the given condition is True.\n",
        "When to use: When you don’t know beforehand how many iterations are needed and you want the loop to run until a condition is met.\n",
        "Control: You need to manually update the condition within the loop to prevent an infinite loop.\n",
        "Syntax:\n",
        "\n",
        "python\n",
        "Copy code\n",
        "while condition:\n",
        "    # Loop body\n",
        "Example:\n",
        "\n",
        "python\n",
        "Copy code\n",
        "i = 0\n",
        "while i < 5:\n",
        "    print(i)\n",
        "    i += 1\n",
        "Output:\n",
        "\n",
        "Copy code\n",
        "0\n",
        "1\n",
        "2\n",
        "3\n",
        "4\n",
        "Key Differences\n",
        "Feature\tfor Loop\twhile Loop\n",
        "Use Case\tWhen iterating over a sequence or range.\tWhen the number of iterations is unknown or based on a condition.\n",
        "Control\tLoop variable is automatically updated.\tCondition must be manually controlled.\n",
        "Termination\tEnds after iterating through the sequence.\tEnds when the condition becomes False.\n",
        "Common Use\tIterating over items, ranges, or lists.\tRepeating until a condition changes.\n",
        "Summary:\n",
        "for loop: Best when the number of iterations is known or when iterating over a sequence.\n",
        "while loop: Best when the loop should continue as long as a condition is true, and the number of iterations is not known in advance.\n",
        "\n",
        "\n",
        "\n",
        "\n",
        "\n"
      ],
      "metadata": {
        "id": "CJes11bRz8O2"
      }
    },
    {
      "cell_type": "markdown",
      "source": [
        "Q14, Describe a scenario where a while loop is more suitable than a for loop?\n",
        "- A while loop is more suitable than a for loop when the number of iterations is not known in advance and the loop should continue as long as a certain condition is true.\n",
        "\n",
        "Scenario Example:\n",
        "Scenario: User input validation\n",
        "\n",
        "Imagine you're building a program that prompts the user to enter a valid password. You don't know how many attempts the user will need, so you need the loop to continue until the user enters a valid password.\n",
        "\n",
        "Why a while loop is more suitable:\n",
        "The loop will keep running as long as the user enters an invalid password, but it stops once the correct password is entered.\n",
        "The number of iterations is not fixed because the user might enter the correct password on the first attempt or after several attempts.\n",
        "Example Code:\n",
        "python\n",
        "Copy code\n",
        "password = \"secret123\"\n",
        "user_input = \"\"\n",
        "\n",
        "while user_input != password:\n",
        "    user_input = input(\"Enter your password: \")\n",
        "    if user_input != password:\n",
        "        print(\"Invalid password, try again.\")\n",
        "        \n",
        "print(\"Password accepted!\")\n",
        "Explanation:\n",
        "The while loop continues to ask for the password until the user enters the correct one.\n",
        "The condition (user_input != password) is checked each time, and the loop keeps running until the condition becomes False (i.e., the user enters the correct password).\n",
        "The number of iterations is not predefined, making the while loop the ideal choice for this scenario.\n",
        "Why a for loop wouldn't be suitable:\n",
        "A for loop is typically used when you know the number of iterations in advance, such as iterating over a list or range. In this case, since we don't know how many times the user will attempt to enter the password, a for loop isn't ideal unless you explicitly set a fixed number of attempts.\n",
        "\n",
        "\n",
        "\n",
        "\n",
        "\n"
      ],
      "metadata": {
        "id": "SNL5qIrH09ft"
      }
    },
    {
      "cell_type": "markdown",
      "source": [
        "# Practical Questions and Answers!\n"
      ],
      "metadata": {
        "id": "TzxOV8lhq2vf"
      }
    },
    {
      "cell_type": "markdown",
      "source": [
        "Q1 Write a Python program to print \"Hello, World!\"?\n"
      ],
      "metadata": {
        "id": "U6l9grVL0QtZ"
      }
    },
    {
      "cell_type": "code",
      "source": [
        "print(\"hello world\")"
      ],
      "metadata": {
        "colab": {
          "base_uri": "https://localhost:8080/"
        },
        "id": "UMvzglq30jz9",
        "outputId": "7970e3f6-c229-4b4b-ab3a-dbae6df79c90"
      },
      "execution_count": null,
      "outputs": [
        {
          "output_type": "stream",
          "name": "stdout",
          "text": [
            "hello world\n"
          ]
        }
      ]
    },
    {
      "cell_type": "markdown",
      "source": [
        "Q2, Write a Python program that displays your name and age?"
      ],
      "metadata": {
        "id": "V98QHGMt1s--"
      }
    },
    {
      "cell_type": "code",
      "source": [
        "# Define variables for name and age\n",
        "name = \"Ovais Qureshi\"  # Replace with your name\n",
        "age = 34           # Replace with your age\n",
        "\n",
        "# Print name and age\n",
        "print(\"My name is\", name)\n",
        "print(\"My age is\", age)"
      ],
      "metadata": {
        "colab": {
          "base_uri": "https://localhost:8080/"
        },
        "id": "XN9z7Zi60cbk",
        "outputId": "f6f2a67b-7cac-408b-cc4f-c7104fb0f4c0"
      },
      "execution_count": null,
      "outputs": [
        {
          "output_type": "stream",
          "name": "stdout",
          "text": [
            "My name is Ovais Qureshi\n",
            "My age is 34\n"
          ]
        }
      ]
    },
    {
      "cell_type": "markdown",
      "source": [
        "Q3, Write code to print all the pre-defined keywords in Python using the keyword library?"
      ],
      "metadata": {
        "id": "Ml717I1G26ze"
      }
    },
    {
      "cell_type": "code",
      "source": [
        "help(\"keywords\")"
      ],
      "metadata": {
        "colab": {
          "base_uri": "https://localhost:8080/"
        },
        "id": "4FgWwVtb5LXT",
        "outputId": "132ab99f-0d6c-434f-8493-91a2897ada1c"
      },
      "execution_count": null,
      "outputs": [
        {
          "output_type": "stream",
          "name": "stdout",
          "text": [
            "\n",
            "Here is a list of the Python keywords.  Enter any keyword to get more help.\n",
            "\n",
            "False               class               from                or\n",
            "None                continue            global              pass\n",
            "True                def                 if                  raise\n",
            "and                 del                 import              return\n",
            "as                  elif                in                  try\n",
            "assert              else                is                  while\n",
            "async               except              lambda              with\n",
            "await               finally             nonlocal            yield\n",
            "break               for                 not                 \n",
            "\n"
          ]
        }
      ]
    },
    {
      "cell_type": "markdown",
      "source": [
        "Q4, Write a program that checks if a given word is a Python keyword?"
      ],
      "metadata": {
        "id": "t_ytjWSn5jiF"
      }
    },
    {
      "cell_type": "markdown",
      "source": [],
      "metadata": {
        "id": "CBhxohFO4XHX"
      }
    },
    {
      "cell_type": "code",
      "source": [
        "# Import the keyword library\n",
        "import keyword\n",
        "\n",
        "# Function to check if a word is a Python keyword\n",
        "def is_python_keyword(word):\n",
        "    return keyword.iskeyword(word)\n",
        "\n",
        "# Input from the user\n",
        "word = input(\"Enter a word to check if it's a Python keyword: \")\n",
        "\n",
        "# Check and display the result\n",
        "if is_python_keyword(word):\n",
        "    print(f\"'{word}' is a Python keyword.\")\n",
        "else:\n",
        "    print(f\"'{word}' is NOT a Python keyword.\")"
      ],
      "metadata": {
        "colab": {
          "base_uri": "https://localhost:8080/"
        },
        "id": "JVJQwMNS7E8c",
        "outputId": "366b9f30-8b34-45c4-f2e9-92da85779b40"
      },
      "execution_count": null,
      "outputs": [
        {
          "output_type": "stream",
          "name": "stdout",
          "text": [
            "Enter a word to check if it's a Python keyword: word\n",
            "'word' is NOT a Python keyword.\n"
          ]
        }
      ]
    },
    {
      "cell_type": "markdown",
      "source": [
        "Q5, Create a list and tuple in Python, and demonstrate how attempting to change an element works differently\n",
        "for each?"
      ],
      "metadata": {
        "id": "K9rImTAz2af8"
      }
    },
    {
      "cell_type": "code",
      "source": [
        "# Creating a list and a tuple\n",
        "my_list = [10, 20, 30]\n",
        "my_tuple = (10, 20, 30)\n",
        "\n",
        "# Attempt to change an element in the list\n",
        "my_list[1] = 99\n",
        "print(\"Modified List:\", my_list)\n",
        "\n",
        "# Attempt to change an element in the tuple\n",
        "try:\n",
        "    my_tuple[1] = 99  # This will raise an error\n",
        "except TypeError as e:\n",
        "    print(\"Error:\", e)\n"
      ],
      "metadata": {
        "id": "ZpRdLk5Xq0KL",
        "colab": {
          "base_uri": "https://localhost:8080/"
        },
        "outputId": "346fdc06-51d5-4bdd-ce51-bb46acba08b0"
      },
      "execution_count": null,
      "outputs": [
        {
          "output_type": "stream",
          "name": "stdout",
          "text": [
            "Modified List: [10, 99, 30]\n",
            "Error: 'tuple' object does not support item assignment\n"
          ]
        }
      ]
    },
    {
      "cell_type": "markdown",
      "source": [
        "Q6, Write a function to demonstrate the behavior of mutable and immutable arguments?"
      ],
      "metadata": {
        "id": "QCbc46IJkDrs"
      }
    },
    {
      "cell_type": "code",
      "source": [
        "# Here is a Python function that demonstrates the behavior of mutable and immutable arguments:\n",
        "\n",
        "def demonstrate_mutable_immutable():\n",
        "    # Immutable argument example\n",
        "    def modify_immutable(arg):\n",
        "        print(f\"Inside modify_immutable (before change): {arg}\")\n",
        "        arg += 1  # Creates a new object as integers are immutable\n",
        "        print(f\"Inside modify_immutable (after change): {arg}\")\n",
        "\n",
        "    # Mutable argument example\n",
        "    def modify_mutable(arg):\n",
        "        print(f\"Inside modify_mutable (before change): {arg}\")\n",
        "        arg.append(4)  # Modifies the existing object as lists are mutable\n",
        "        print(f\"Inside modify_mutable (after change): {arg}\")\n",
        "\n",
        "    # Immutable: Integer\n",
        "    num = 10\n",
        "    print(f\"Original immutable value (num): {num}\")\n",
        "    modify_immutable(num)\n",
        "    print(f\"Immutable value (num) after function call: {num}\\n\")\n",
        "\n",
        "    # Mutable: List\n",
        "    my_list = [1, 2, 3]\n",
        "    print(f\"Original mutable value (my_list): {my_list}\")\n",
        "    modify_mutable(my_list)\n",
        "    print(f\"Mutable value (my_list) after function call: {my_list}\")\n",
        "\n",
        "# Call the function to observe the behavior\n",
        "demonstrate_mutable_immutable()\n"
      ],
      "metadata": {
        "id": "P2xjll0N8k7m",
        "colab": {
          "base_uri": "https://localhost:8080/"
        },
        "outputId": "f584fbf4-75b9-43dc-8bca-593d08506c5f"
      },
      "execution_count": 3,
      "outputs": [
        {
          "output_type": "stream",
          "name": "stdout",
          "text": [
            "Original immutable value (num): 10\n",
            "Inside modify_immutable (before change): 10\n",
            "Inside modify_immutable (after change): 11\n",
            "Immutable value (num) after function call: 10\n",
            "\n",
            "Original mutable value (my_list): [1, 2, 3]\n",
            "Inside modify_mutable (before change): [1, 2, 3]\n",
            "Inside modify_mutable (after change): [1, 2, 3, 4]\n",
            "Mutable value (my_list) after function call: [1, 2, 3, 4]\n"
          ]
        }
      ]
    },
    {
      "cell_type": "markdown",
      "source": [
        "Q7, Q8, Write a program to demonstrate the use of logical operators?"
      ],
      "metadata": {
        "id": "742QBboRlHkd"
      }
    },
    {
      "cell_type": "code",
      "source": [
        "a = True\n",
        "b = False\n",
        "print(\"AND Operator\")\n",
        "print(f\"{a and b}\") #Output is False because one of them is False.\n",
        "print(f\"{a and a}\") #Output will be True only when both of them are True\n",
        "print(\"\")\n",
        "print(\"OR Operator\")\n",
        "print(f\"{a or b}\") #Output is True because one of them is True.\n",
        "print(f\"{b or b}\") #Output will be False only when both of them are False.\n",
        "print(\"\")\n",
        "print(\"NOT Operator\")\n",
        "print(f\"{not a}\") #Output is False because a is True.\n",
        "print(f\"{not b}\") #Output is True because b is False."
      ],
      "metadata": {
        "colab": {
          "base_uri": "https://localhost:8080/"
        },
        "id": "3PetHgkJkteT",
        "outputId": "d48383a5-5d86-45c6-e1b7-7cfddbac54bb"
      },
      "execution_count": 4,
      "outputs": [
        {
          "output_type": "stream",
          "name": "stdout",
          "text": [
            "AND Operator\n",
            "False\n",
            "True\n",
            "\n",
            "OR Operator\n",
            "True\n",
            "False\n",
            "\n",
            "NOT Operator\n",
            "False\n",
            "True\n"
          ]
        }
      ]
    },
    {
      "cell_type": "markdown",
      "source": [
        "Q8, Write a Python program to convert user input from string to integer, float, and boolean types?"
      ],
      "metadata": {
        "id": "J9RjakHomzJZ"
      }
    },
    {
      "cell_type": "code",
      "source": [
        "a= input(\"Enter a string to change it's type\")\n",
        "b= input(\"Select type - Integer Float Boolean\")\n",
        "if b==\"Integer\":\n",
        "  print(int(a))\n",
        "elif b==\"Float\":\n",
        "  print(float(a))\n",
        "elif b==\"Boolean\":\n",
        "  print(bool(a))\n",
        "else:\n",
        "  print(\"Invalid Input\")"
      ],
      "metadata": {
        "id": "CLtC-RTXnIah"
      },
      "execution_count": null,
      "outputs": []
    },
    {
      "cell_type": "markdown",
      "source": [
        "Q9, Write code to demonstrate type casting with list elements?"
      ],
      "metadata": {
        "id": "wrQETzKtnhjp"
      }
    },
    {
      "cell_type": "code",
      "source": [
        "#Here’s an example of Python code that demonstrates type casting with elements in a list. The code shows how to convert list elements from one data type to another.\n",
        "\n",
        "\n",
        "# List with mixed data types\n",
        "data = ['123', '456.78', 789, 'True', False]\n",
        "\n",
        "# Display original list\n",
        "print(\"Original List:\", data)\n",
        "\n",
        "# Type casting each element in the list\n",
        "# Convert string numbers to integers or floats, and booleans to integers\n",
        "converted_data = []\n",
        "\n",
        "for element in data:\n",
        "    if isinstance(element, str):  # Check if the element is a string\n",
        "        if element.isdigit():  # If it's a numeric string, convert to int\n",
        "            converted_data.append(int(element))\n",
        "        else:\n",
        "            try:\n",
        "                # Try to convert to float if not an integer\n",
        "                converted_data.append(float(element))\n",
        "            except ValueError:\n",
        "                converted_data.append(element)  # Keep as is if conversion fails\n",
        "    elif isinstance(element, bool):  # Convert booleans to integers\n",
        "        converted_data.append(int(element))\n",
        "    else:\n",
        "        converted_data.append(element)  # Keep as is for non-string and non-boolean\n",
        "\n",
        "# Display converted list\n",
        "print(\"Converted List:\", converted_data)\n"
      ],
      "metadata": {
        "colab": {
          "base_uri": "https://localhost:8080/"
        },
        "id": "taYwoV_RoAMy",
        "outputId": "fcaa0795-0507-4f7f-b2b6-dfb53c514588"
      },
      "execution_count": 7,
      "outputs": [
        {
          "output_type": "stream",
          "name": "stdout",
          "text": [
            "Original List: ['123', '456.78', 789, 'True', False]\n",
            "Converted List: [123, 456.78, 789, 'True', 0]\n"
          ]
        }
      ]
    },
    {
      "cell_type": "markdown",
      "source": [
        "Q10, Write a program that checks if a number is positive, negative, or zero?"
      ],
      "metadata": {
        "id": "0hZP_oZDpe2D"
      }
    },
    {
      "cell_type": "code",
      "source": [
        "#Here’s a Python program to check if a number is positive, negative, or zero:\n",
        "\n",
        "# Function to check if a number is positive, negative, or zero\n",
        "def check_number(num):\n",
        "    if num > 0:\n",
        "        print(f\"The number {num} is positive.\")\n",
        "    elif num < 0:\n",
        "        print(f\"The number {num} is negative.\")\n",
        "    else:\n",
        "        print(f\"The number {num} is zero.\")\n",
        "\n",
        "# Input from the user\n",
        "try:\n",
        "    number = float(input(\"Enter a number: \"))\n",
        "    check_number(number)\n",
        "except ValueError:\n",
        "    print(\"Invalid input! Please enter a numeric value.\")\n"
      ],
      "metadata": {
        "colab": {
          "base_uri": "https://localhost:8080/"
        },
        "id": "gfAQvUOuo_kN",
        "outputId": "8b3ab5b1-ae66-42f2-c300-66ea18aaefff"
      },
      "execution_count": 11,
      "outputs": [
        {
          "output_type": "stream",
          "name": "stdout",
          "text": [
            "Enter a number: 0\n",
            "The number 0.0 is zero.\n"
          ]
        }
      ]
    },
    {
      "cell_type": "code",
      "source": [],
      "metadata": {
        "id": "U_RDWUGFpxsa"
      },
      "execution_count": null,
      "outputs": []
    },
    {
      "cell_type": "markdown",
      "source": [
        "Q11,  Write a for loop to print numbers from 1 to 10?\n"
      ],
      "metadata": {
        "id": "vPuRXf3VqFWr"
      }
    },
    {
      "cell_type": "code",
      "source": [
        "for i in range(1,11):\n",
        "  print(i)"
      ],
      "metadata": {
        "colab": {
          "base_uri": "https://localhost:8080/"
        },
        "id": "llOyGEYhrPoO",
        "outputId": "666a8d74-7bfe-4684-e977-0e2eda180eca"
      },
      "execution_count": 9,
      "outputs": [
        {
          "output_type": "stream",
          "name": "stdout",
          "text": [
            "1\n",
            "2\n",
            "3\n",
            "4\n",
            "5\n",
            "6\n",
            "7\n",
            "8\n",
            "9\n",
            "10\n"
          ]
        }
      ]
    },
    {
      "cell_type": "markdown",
      "source": [
        "Q12, Write a Python program to find the sum of all even numbers between 1 and 50?"
      ],
      "metadata": {
        "id": "4U2PI41IC6V8"
      }
    },
    {
      "cell_type": "code",
      "source": [
        "a = 0\n",
        "for i in range(0, 51):\n",
        "  if i%2==0:\n",
        "    a += i\n",
        "    print(a)\n",
        "print(\"The Sum of even numbers from 1 to 50 is\",a)"
      ],
      "metadata": {
        "colab": {
          "base_uri": "https://localhost:8080/"
        },
        "id": "doFLxFhksxfH",
        "outputId": "6462f590-ce5a-42de-f62d-83ea9dc87b69"
      },
      "execution_count": 1,
      "outputs": [
        {
          "output_type": "stream",
          "name": "stdout",
          "text": [
            "0\n",
            "2\n",
            "6\n",
            "12\n",
            "20\n",
            "30\n",
            "42\n",
            "56\n",
            "72\n",
            "90\n",
            "110\n",
            "132\n",
            "156\n",
            "182\n",
            "210\n",
            "240\n",
            "272\n",
            "306\n",
            "342\n",
            "380\n",
            "420\n",
            "462\n",
            "506\n",
            "552\n",
            "600\n",
            "650\n",
            "The Sum of even numbers from 1 to 50 is 650\n"
          ]
        }
      ]
    },
    {
      "cell_type": "markdown",
      "source": [
        "Q13, Write a program to reverse a string using a while loop?"
      ],
      "metadata": {
        "id": "4Ox4RuIJDfBk"
      }
    },
    {
      "cell_type": "code",
      "source": [
        "a = (\"Ovais\")\n",
        "while len(a) > 0:\n",
        "  print(a[-1])\n",
        "  a = a[:-1]"
      ],
      "metadata": {
        "colab": {
          "base_uri": "https://localhost:8080/"
        },
        "id": "C9B6NLFhDQ5L",
        "outputId": "a0094a30-48ba-42db-e6cf-bbd4db83ff57"
      },
      "execution_count": 2,
      "outputs": [
        {
          "output_type": "stream",
          "name": "stdout",
          "text": [
            "s\n",
            "i\n",
            "a\n",
            "v\n",
            "O\n"
          ]
        }
      ]
    },
    {
      "cell_type": "markdown",
      "source": [
        "Write a Python program to calculate the factorial of a number provided by the user using a while loop"
      ],
      "metadata": {
        "id": "S1hDkNm5EBTk"
      }
    },
    {
      "cell_type": "code",
      "source": [
        "# Program to calculate the factorial of a number using a while loop\n",
        "\n",
        "# Get input from the user\n",
        "number = int(input(\"Enter a non-negative integer: \"))\n",
        "\n",
        "# Check for valid input\n",
        "if number < 0:\n",
        "    print(\"Factorial is not defined for negative numbers.\")\n",
        "else:\n",
        "    factorial = 1  # Initialize the factorial\n",
        "    i = 1  # Initialize the counter\n",
        "\n",
        "    # Calculate factorial using a while loop\n",
        "    while i <= number:\n",
        "        factorial *= i\n",
        "        i += 1\n",
        "\n",
        "    # Print the result\n",
        "    print(f\"The factorial of {number} is {factorial}.\")\n"
      ],
      "metadata": {
        "colab": {
          "base_uri": "https://localhost:8080/"
        },
        "id": "tIWcWVZMDuPD",
        "outputId": "5479a584-786b-45bc-e006-e5df25f62f72"
      },
      "execution_count": 3,
      "outputs": [
        {
          "output_type": "stream",
          "name": "stdout",
          "text": [
            "Enter a non-negative integer: 1\n",
            "The factorial of 1 is 1.\n"
          ]
        }
      ]
    },
    {
      "cell_type": "code",
      "source": [],
      "metadata": {
        "id": "wKRTZ7z7EUla"
      },
      "execution_count": null,
      "outputs": []
    }
  ]
}